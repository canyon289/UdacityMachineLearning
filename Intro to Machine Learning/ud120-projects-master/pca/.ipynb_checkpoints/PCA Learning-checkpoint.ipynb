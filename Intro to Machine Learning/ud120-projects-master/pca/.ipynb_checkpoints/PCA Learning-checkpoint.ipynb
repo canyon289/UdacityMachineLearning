{
 "cells": [
  {
   "cell_type": "markdown",
   "metadata": {},
   "source": [
    "#Principal Component Analysis Testing notebook\n",
    "I'll be using this notebook to completely learn how PCA works and what it does"
   ]
  },
  {
   "cell_type": "code",
   "execution_count": 6,
   "metadata": {
    "collapsed": false
   },
   "outputs": [],
   "source": [
    "import pandas as pd\n",
    "import numpy as np\n",
    "import matplotlib.pyplot as plt\n",
    "%matplotlib inline"
   ]
  },
  {
   "cell_type": "code",
   "execution_count": 4,
   "metadata": {
    "collapsed": false
   },
   "outputs": [
    {
     "name": "stdout",
     "output_type": "stream",
     "text": [
      "[0 1 2 3]\n",
      "[ 0.  0.  0.  0.]\n"
     ]
    }
   ],
   "source": [
    "#Create a numpy x y vector\n",
    "x = np.arange(0,4)\n",
    "y = np.zeros(4)\n",
    "print(x)\n",
    "print(y)"
   ]
  },
  {
   "cell_type": "code",
   "execution_count": 9,
   "metadata": {
    "collapsed": false
   },
   "outputs": [
    {
     "data": {
      "text/plain": [
       "[<matplotlib.lines.Line2D at 0x5a73c88>]"
      ]
     },
     "execution_count": 9,
     "metadata": {},
     "output_type": "execute_result"
    },
    {
     "data": {
      "image/png": "[encoded data removed]",
      "text/plain": [
       "<matplotlib.figure.Figure at 0x5cc5a90>"
      ]
     },
     "metadata": {},
     "output_type": "display_data"
    }
   ],
   "source": [
    "plt.plot(x, y, 'o')"
   ]
  },
  {
   "cell_type": "code",
   "execution_count": 31,
   "metadata": {
    "collapsed": false
   },
   "outputs": [
    {
     "data": {
      "text/plain": [
       "(array([  1.40000000e+01 +0.00000000e+00j,\n",
       "          9.06694369e-17 +4.52887213e-16j,\n",
       "          9.06694369e-17 -4.52887213e-16j,   0.00000000e+00 +0.00000000e+00j]),\n",
       " array([[ 0.00000000+0.j        ,  0.00000000+0.j        ,\n",
       "          0.00000000-0.j        ,  1.00000000+0.j        ],\n",
       "        [-0.26726124+0.j        ,  0.16823280-0.60317441j,\n",
       "          0.16823280+0.60317441j,  0.00000000+0.j        ],\n",
       "        [-0.53452248+0.j        , -0.65145813+0.j        ,\n",
       "         -0.65145813-0.j        ,  0.00000000+0.j        ],\n",
       "        [-0.80178373+0.j        ,  0.37822782+0.20105814j,\n",
       "          0.37822782-0.20105814j,  0.00000000+0.j        ]]))"
      ]
     },
     "execution_count": 31,
     "metadata": {},
     "output_type": "execute_result"
    }
   ],
   "source": [
    "#Easty trick to turn vectors into coordinates for numpy array\n",
    "matrix = np.vstack([x,y]).T\n",
    "d = np.dot(matrix, matrix.T)\n",
    "np.linalg.eig(d)"
   ]
  },
  {
   "cell_type": "markdown",
   "metadata": {},
   "source": [
    "Example from here\n",
    "http://www.cs.otago.ac.nz/cosc453/student_tutorials/principal_components.pdf\n",
    "http://people.cs.pitt.edu/~iyad/PCA.pdf"
   ]
  },
  {
   "cell_type": "code",
   "execution_count": 62,
   "metadata": {
    "collapsed": false
   },
   "outputs": [
    {
     "name": "stdout",
     "output_type": "stream",
     "text": [
      "(10, 2)\n"
     ]
    },
    {
     "data": {
      "text/plain": [
       "(array([ 0.0490834 ,  1.28402771]), array([[-0.73517866, -0.6778734 ],\n",
       "        [ 0.6778734 , -0.73517866]]))"
      ]
     },
     "execution_count": 62,
     "metadata": {},
     "output_type": "execute_result"
    }
   ],
   "source": [
    "d = pd.read_csv(\"example.txt\", header=None, sep = \" \")\n",
    "# print(d)\n",
    "#print(d.values)\n",
    "print(d.values.shape)\n",
    "np.cov(d, rowvar = 0)\n",
    "#np.linalg.eig([[.61655, .615],[.615, .71655]])\n",
    "np.linalg.eig(np.cov(d, rowvar = 0))"
   ]
  },
  {
   "cell_type": "code",
   "execution_count": 77,
   "metadata": {
    "collapsed": false
   },
   "outputs": [
    {
     "data": {
      "text/plain": [
       "array([ 1.15562494,  0.04417506])"
      ]
     },
     "execution_count": 77,
     "metadata": {},
     "output_type": "execute_result"
    }
   ],
   "source": [
    "#Try PCA with Sklearn\n",
    "from sklearn.decomposition import PCA\n",
    "clf = PCA()\n",
    "clf.fit(d.values)\n",
    "clf.explained_variance_"
   ]
  },
  {
   "cell_type": "markdown",
   "metadata": {},
   "source": [
    "## Some really good notes on PCA\n",
    "http://stats.stackexchange.com/questions/50537/should-one-remove-highly-correlated-variables-before-doing-pca\n",
    "http://sebastianraschka.com/Articles/2014_about_feature_scaling.html\n"
   ]
  }
 ],
 "metadata": {
  "kernelspec": {
   "display_name": "Python 3",
   "language": "python",
   "name": "python3"
  },
  "language_info": {
   "codemirror_mode": {
    "name": "ipython",
    "version": 3
   },
   "file_extension": ".py",
   "mimetype": "text/x-python",
   "name": "python",
   "nbconvert_exporter": "python",
   "pygments_lexer": "ipython3",
   "version": "3.4.3"
  }
 },
 "nbformat": 4,
 "nbformat_minor": 0
}
